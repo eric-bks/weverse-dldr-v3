{
 "cells": [
  {
   "cell_type": "markdown",
   "id": "e5446555",
   "metadata": {},
   "source": [
    "# Weverse Downloader"
   ]
  },
  {
   "cell_type": "markdown",
   "id": "daf3d2dc",
   "metadata": {},
   "source": [
    "The Weverse Downloader performs a series of tasks related to downloading, processing, and manipulating video and audio files. It includes functions to retrieve the YouTube title, create an output directory, download video files, concatenate the downloaded clips, write the final video to an .mp4 file, and play the video within a Jupyter Notebook.\n",
    "\n",
    "Additionally, the code utilizes the Whisper ASR (Automated Speech Recognition) model to transcribe the audio from the video, convert the transcription result into SubRip subtitle format (.srt), and write it as an .srt file."
   ]
  },
  {
   "cell_type": "markdown",
   "id": "c9b2dcab",
   "metadata": {},
   "source": [
    "Weverse Live streams are delivered differently from other video broadcasting websites. The src path to the stream is a blob link that leads to an error page. Third-party downloaders cannot process the link or are locked behind a paywall. \n",
    "\n",
    "Clips are sent from the servers in encoded segments under network requests. The request URL has a consistent format that can be edited programmatically. The request URL expires after the browser expires."
   ]
  },
  {
   "cell_type": "markdown",
   "id": "5b12724d",
   "metadata": {},
   "source": [
    "### imports"
   ]
  },
  {
   "cell_type": "code",
   "execution_count": 1,
   "id": "8be949ce",
   "metadata": {},
   "outputs": [],
   "source": [
    "#imports\n",
    "import os\n",
    "import logging\n",
    "import time\n",
    "\n",
    "import ffmpeg\n",
    "import moviepy\n",
    "from moviepy.editor import concatenate_videoclips, VideoFileClip\n",
    "\n",
    "from tqdm import tqdm\n",
    "\n",
    "import requests\n",
    "\n",
    "import selenium\n",
    "from selenium.webdriver.common.by import By\n",
    "from selenium.webdriver.common.keys import Keys\n",
    "from selenium.webdriver.support.ui import WebDriverWait\n",
    "from selenium.webdriver.support import expected_conditions as EC\n",
    "\n",
    "import undetected_chromedriver as uc\n",
    "\n",
    "from googletrans import Translator\n",
    "\n",
    "from IPython.display import display, HTML, Markdown\n",
    "\n",
    "import Credentials\n",
    "\n",
    "import whisper"
   ]
  },
  {
   "cell_type": "markdown",
   "id": "f84a81c9",
   "metadata": {},
   "source": [
    "### definitions"
   ]
  },
  {
   "cell_type": "code",
   "execution_count": 2,
   "id": "f300e4c4",
   "metadata": {},
   "outputs": [],
   "source": [
    "def get_youtube_title():\n",
    "    '''\n",
    "    Opens a Chrome browser and automatically logs in to a website.\n",
    "    Retrieves the YouTube title and publish date.\n",
    "    Translates the title into different languages.\n",
    "    Prints the translated titles.\n",
    "    '''\n",
    "    \n",
    "    # Initialize webdriver\n",
    "    options = uc.ChromeOptions()\n",
    "    options.headless = False\n",
    "    \n",
    "    driverWeverse = uc.Chrome(options = options)\n",
    "    driverWeverse.get(video_url)\n",
    "    \n",
    "    # Login process\n",
    "    time.sleep(3)\n",
    "    WebDriverWait(driverWeverse, 20).until(EC.element_to_be_clickable((By.CLASS_NAME, 'UserJoinInduceLayerView_link__wcuim'))).click()\n",
    "    WebDriverWait(driverWeverse, 10).until(EC.element_to_be_clickable((By.CSS_SELECTOR, 'button[aria-label=\"confirm modal\"].ModalButtonView_button__B5k-Z'))).click()\n",
    "    driverWeverse.find_element(By.TAG_NAME, 'body').send_keys(Keys.TAB + username + Keys.ENTER)\n",
    "    time.sleep(2)\n",
    "    driverWeverse.find_element(By.TAG_NAME, 'body').send_keys(Keys.TAB + Keys.TAB + password + Keys.ENTER)\n",
    "\n",
    "    # Retrieve title and date\n",
    "    h2_text = WebDriverWait(driverWeverse, 10).until(EC.presence_of_element_located((By.CLASS_NAME, 'TitleView_title__SSnHb'))).text.replace(\"replay\\n\", '')\n",
    "    span_text = driverWeverse.find_element(By.CLASS_NAME, 'HeaderView_info__j-KNX').text\n",
    "    month = span_text.split('.')[0]\n",
    "    day = span_text.split('.')[1]\n",
    "    global output_name\n",
    "    output_name = f'{year}{month}{day}'\n",
    "\n",
    "    # Translates the title\n",
    "    ENG_title = Translator().translate(h2_text, dest = 'en')\n",
    "    SPA_title = Translator().translate(h2_text, dest = 'es')\n",
    "    JPN_title = Translator().translate(h2_text, dest = 'ja')\n",
    "\n",
    "    global youtube_title, youtube_title_SPA, youtube_title_KOR, youtube_title_JPN\n",
    "    youtube_title = f\"[ENG SUB] {output_name} | LE SSERAFIM Weverse Live 🔴 ({h2_text}) {ENG_title.text}\"\n",
    "    youtube_title_SPA = f\"[SPA SUB] {output_name} | LE SSERAFIM Weverse EN VIVO 🔴 ({h2_text}) {SPA_title.text}\"\n",
    "    youtube_title_KOR = f\"[한국어 자막] {output_name} | 르세라핌 위버스 라이브 🔴 ({h2_text})\"\n",
    "    youtube_title_JPN = f\"[日本語字幕] {output_name} | レ・セラフィム ウィバースライブ 🔴 ({h2_text}) {JPN_title.text}\"\n",
    "\n",
    "    #Prints the translated titles.\n",
    "    print(youtube_title)\n",
    "    print(youtube_title_SPA)\n",
    "    print(youtube_title_KOR)\n",
    "    print(youtube_title_JPN)\n",
    "        \n",
    "    driverWeverse.quit()"
   ]
  },
  {
   "cell_type": "code",
   "execution_count": 3,
   "id": "97d3c5a2",
   "metadata": {},
   "outputs": [],
   "source": [
    "def createDir():\n",
    "    try:\n",
    "        # Creates the output directory if it doesn't already exist.\n",
    "        if not os.path.exists(output_name):\n",
    "            os.makedirs(output_name)\n",
    "    except OSError as e:\n",
    "        print(f\"An error occurred while creating the directory: {e}\")"
   ]
  },
  {
   "cell_type": "code",
   "execution_count": 4,
   "id": "14ccbe0d",
   "metadata": {},
   "outputs": [],
   "source": [
    "def downloader():\n",
    "    with requests.Session() as session:\n",
    "        #Iterates over a range of network request codes and downloads the corresponding files.\n",
    "        for i in tqdm(range(1, last_code_index), desc=\"Downloading\", unit=\"file\", leave=True):\n",
    "            code = f'{i:06d}'\n",
    "            url = url_template.replace('{code}', code)\n",
    "\n",
    "            try:\n",
    "                response = session.get(url)\n",
    "                if response.status_code == 200: #Checks if valid URL.\n",
    "                    file_path = os.path.join(output_name, f'output_{code}.ts')\n",
    "                    with open(file_path, 'wb') as file:\n",
    "                        file.write(response.content)\n",
    "                else:\n",
    "                    print(f\"Failed to retrieve TS file with code {code}\")\n",
    "            except requests.exceptions.RequestException as e:\n",
    "                logging.error(f\"Error downloading file with code {code}: {e}\")\n",
    "                # Handle the exception, such as retrying the download or logging the error message"
   ]
  },
  {
   "cell_type": "code",
   "execution_count": 5,
   "id": "3d3aa43e",
   "metadata": {},
   "outputs": [],
   "source": [
    "def videoClipsList():\n",
    "    file_range = range(1, last_code_index)\n",
    "    file_paths = [r\"F:\\Documents\\Jupyter_Notebooks\\WeVerse_Downloader\\{}\\output_{:06d}.ts\".format(output_name, i) for i in file_range]\n",
    "\n",
    "    def load_video_clip(file_path):\n",
    "        try:\n",
    "            return VideoFileClip(file_path)\n",
    "        except Exception as e:\n",
    "            logging.error(f\"Error loading video clip from {file_path}: {e}\")\n",
    "            return None\n",
    "\n",
    "    global video_clips\n",
    "    video_clips = [load_video_clip(file_path) for file_path in tqdm(file_paths, desc=\"Loading Clips\", unit=\"clip\") if load_video_clip(file_path) is not None]"
   ]
  },
  {
   "cell_type": "code",
   "execution_count": 6,
   "id": "77aeef6f",
   "metadata": {},
   "outputs": [],
   "source": [
    "def concatenate():\n",
    "    batch_size = 10  # Number of clips to concatenate at a time\n",
    "    num_batches = len(video_clips) // batch_size + 1\n",
    "\n",
    "    # Concatenate clips in batches\n",
    "    clip_batches = [video_clips[i:i+batch_size] for i in range(0, len(video_clips), batch_size)]\n",
    "    concatenated_clips = []\n",
    "\n",
    "    for clips in tqdm(clip_batches, desc='Concatenating Batches', unit='batch'):\n",
    "        concatenated_clips.append(concatenate_videoclips(clips, method='compose'))\n",
    "\n",
    "    # Concatenate the batches into a final clip\n",
    "    global final_clip\n",
    "    final_clip = concatenate_videoclips(concatenated_clips, method='compose')"
   ]
  },
  {
   "cell_type": "code",
   "execution_count": 7,
   "id": "ea2faa42",
   "metadata": {},
   "outputs": [],
   "source": [
    "def write():\n",
    "    #Writes the final clip to an .mp4 file.\n",
    "    final_clip.write_videofile(f\"{output_name}.mp4\", fps = 30, threads = 4)"
   ]
  },
  {
   "cell_type": "code",
   "execution_count": 8,
   "id": "aadc7779",
   "metadata": {},
   "outputs": [],
   "source": [
    "def playVideo(output_name, width = 640, height = 480, title = None):\n",
    "    #Plays the video file in the Jupyter Notebook environment using HTML and Markdown.\n",
    "    video_path = f\"{output_name}.mp4\"\n",
    "    display(Markdown(f\"# {title}\")) if title else None\n",
    "    video_html = f'<video width=\"{width}\" height=\"{height}\" controls><source src=\"{video_path}\" type=\"video/mp4\"></video>'\n",
    "    display(HTML(video_html))"
   ]
  },
  {
   "cell_type": "code",
   "execution_count": 9,
   "id": "abe98015",
   "metadata": {},
   "outputs": [],
   "source": [
    " def runPackage(video_url_in, network_request_url_in, last_code_index_in):\n",
    "    defVariables(video_url_in, network_request_url_in, last_code_index_in) #Defines the variables.\n",
    "    get_youtube_title() #Retrieves the YouTube title.\n",
    "    createDir() #Creates the output directory.\n",
    "    downloader() #Downloads the video files.\n",
    "    videoClipsList() #loads the video clips.\n",
    "    concatenate() #Concatenates them.\n",
    "    write() #Writes the final clip.\n",
    "    playVideo(output_name, title = youtube_title) #Plays the video."
   ]
  },
  {
   "cell_type": "code",
   "execution_count": 10,
   "id": "8f03e0a5",
   "metadata": {},
   "outputs": [],
   "source": [
    "def transcribe():\n",
    "    global model\n",
    "    model = whisper.load_model(\"tiny\", device = 'cuda') #Loads the Whisper ASR modelo; Specifies device as CUDA to utilize GPU.\n",
    "    global audio\n",
    "    audio = whisper.load_audio(f'{output_name}.mp4') #Transcribes the audio using the model.\n",
    "    global result\n",
    "    result = model.transcribe(audio, verbose = True, language = 'Korean', task = 'translate') #Stores the result."
   ]
  },
  {
   "cell_type": "code",
   "execution_count": 11,
   "id": "5220d1cf",
   "metadata": {},
   "outputs": [],
   "source": [
    "def format_time(time):\n",
    "    #Formats a time value into the standard subtitle format (HH:MM:SS,mmm).\n",
    "    hours = int(time // 3600)\n",
    "    minutes = int((time % 3600) // 60)\n",
    "    seconds = int(time % 60)\n",
    "    milliseconds = int((time % 1) * 1000)\n",
    "\n",
    "    return f\"{hours:02d}:{minutes:02d}:{seconds:02d},{milliseconds:03d}\""
   ]
  },
  {
   "cell_type": "code",
   "execution_count": 12,
   "id": "b5443ace",
   "metadata": {},
   "outputs": [],
   "source": [
    "def convert_to_srt(segments, output_file):\n",
    "    with open(output_file, 'w', encoding='utf-8') as file:\n",
    "        index = 1\n",
    "        #Converts a list of segments into SubRip subtitle format.\n",
    "        for segment in segments:\n",
    "            \n",
    "            start_time = format_time(segment['start'])\n",
    "            end_time = format_time(segment['end'])\n",
    "            text = segment['text']\n",
    "            \n",
    "            #Writes the subtitles to a file.\n",
    "            file.write(f\"{index}\\n\")\n",
    "            file.write(f\"{start_time} --> {end_time}\\n\")\n",
    "            file.write(f\"{text}\\n\")\n",
    "            file.write(\"\\n\")\n",
    "            \n",
    "            index += 1"
   ]
  },
  {
   "cell_type": "code",
   "execution_count": 13,
   "id": "3923ab52",
   "metadata": {},
   "outputs": [],
   "source": [
    "def runWhisper(output_name):\n",
    "    #Executes the steps to transcribe the audio, convert the result to the .srt format, and save it as an .srt file.\n",
    "    transcribe()\n",
    "    convert_to_srt(result['segments'], f'{output_name}.srt')\n",
    "    print(f'\\n\\nFile written as {output_name}.srt')"
   ]
  },
  {
   "cell_type": "markdown",
   "id": "86ef7bab",
   "metadata": {},
   "source": [
    "### variables"
   ]
  },
  {
   "cell_type": "code",
   "execution_count": 14,
   "id": "5fcad61c",
   "metadata": {},
   "outputs": [],
   "source": [
    "def defVariables(video_url_in, network_request_url_in, last_code_index_in):\n",
    "    #URL of the video to download\n",
    "    global video_url\n",
    "    video_url = video_url_in\n",
    "    #network_request_url\n",
    "    global network_request_url\n",
    "    network_request_url = network_request_url_in\n",
    "    #template string for constructing URLs\n",
    "    global url_template\n",
    "    url_template = network_request_url.replace(network_request_url.split('-')[-1].split('.')[0], '{code}')\n",
    "    #last index used in constructing URLs\n",
    "    global last_code_index\n",
    "    last_code_index = (last_code_index_in) + 1\n",
    "\n",
    "    global username\n",
    "    username = Credentials.username\n",
    "    global password\n",
    "    password = Credentials.password\n",
    "    global year\n",
    "    year = 22\n",
    "\n",
    "    ###output_name = '230706'"
   ]
  },
  {
   "cell_type": "markdown",
   "id": "ff833702",
   "metadata": {},
   "source": [
    "### execution"
   ]
  },
  {
   "cell_type": "code",
   "execution_count": null,
   "id": "7d74b811",
   "metadata": {
    "scrolled": false
   },
   "outputs": [
    {
     "name": "stdout",
     "output_type": "stream",
     "text": [
      "[ENG SUB] 220706 | LE SSERAFIM Weverse Live 🔴 (🍄) 🍄\n",
      "[SPA SUB] 220706 | LE SSERAFIM Weverse EN VIVO 🔴 (🍄) 🍄\n",
      "[한국어 자막] 220706 | 르세라핌 위버스 라이브 🔴 (🍄)\n",
      "[日本語字幕] 220706 | レ・セラフィム ウィバースライブ 🔴 (🍄) 🍄\n"
     ]
    },
    {
     "name": "stderr",
     "output_type": "stream",
     "text": [
      "Downloading: 100%|███████████████████████████████████████████████████████████████████| 20/20 [00:00<00:00, 21.77file/s]\n",
      "Loading Clips: 100%|█████████████████████████████████████████████████████████████████| 20/20 [00:23<00:00,  1.16s/clip]\n",
      "Concatenating Batches: 100%|██████████████████████████████████████████████████████████| 2/2 [00:00<00:00, 11.83batch/s]\n"
     ]
    },
    {
     "name": "stdout",
     "output_type": "stream",
     "text": [
      "Moviepy - Building video 220706.mp4.\n",
      "MoviePy - Writing audio in 220706TEMP_MPY_wvf_snd.mp3\n"
     ]
    },
    {
     "name": "stderr",
     "output_type": "stream",
     "text": [
      "                                                                                                                       \r"
     ]
    },
    {
     "name": "stdout",
     "output_type": "stream",
     "text": [
      "MoviePy - Done.\n",
      "Moviepy - Writing video 220706.mp4\n",
      "\n"
     ]
    },
    {
     "name": "stderr",
     "output_type": "stream",
     "text": [
      "t:  99%|████████████████████████████████████████████████████████████████▏| 2402/2433 [07:22<00:06,  4.74it/s, now=None]"
     ]
    }
   ],
   "source": [
    "%%time\n",
    "runPackage(\n",
    "    video_url_in = 'https://weverse.io/lesserafim/live/3-123907106',\n",
    "    network_request_url_in = 'https://weverse-rmcnmv.akamaized.net/c/read/v2/VOD_ALPHA/weverse_2023_07_06_0/hls/499a455b-1bed-11ee-b37e-a0369ffdede8-000022.ts?__gda__=1688975774_fb4cfbe5ae2def79caa216d1d96676e1',\n",
    "    last_code_index_in = 20\n",
    ")"
   ]
  },
  {
   "cell_type": "code",
   "execution_count": null,
   "id": "0213f1c1",
   "metadata": {},
   "outputs": [],
   "source": [
    "%%time\n",
    "###runWhisper()"
   ]
  },
  {
   "cell_type": "markdown",
   "id": "815dd3ce",
   "metadata": {},
   "source": [
    "https://colab.research.google.com/drive/1kmnzxf7a-wGjsEDXjO46PyVxQOv54tW0?usp=sharing"
   ]
  },
  {
   "cell_type": "markdown",
   "id": "16df5408",
   "metadata": {},
   "source": [
    "## Post Notes"
   ]
  },
  {
   "cell_type": "markdown",
   "id": "a6474ad6",
   "metadata": {},
   "source": [
    "### To-do\n",
    "\n",
    "- Create helper functions: _login_to_website, _get_title_info, and _translate_title.\n",
    "- Automate file run on new upload.\n",
    "- Automate network request URL.\n",
    "- Automate last_code_index.\n",
    "- Automate upload to YouTube with API.\n",
    "- Reduce Redundancy defVariables().\n",
    "- Find solution to run program off home machine.\n",
    "- Whisper JAX.\n",
    "- Kaggle Notebook TPUs.\n",
    "- Docker?\n",
    "- Automate upload using YouTube API."
   ]
  },
  {
   "cell_type": "markdown",
   "id": "39d465ba",
   "metadata": {},
   "source": [
    "### Limitations\n",
    "\n",
    "- Requires manual link entry.\n",
    "- getYoutubeTitle() sometimes misclicks in webdriver.\n",
    "- Requires a lot of CPU and RAM.\n",
    "- WhisperAI large model requires 10 GB VRAM.\n",
    "- Cannot be run on my work machine due to lack of RAM.\n",
    "- Currently runs Whisper on Google Colab.\n",
    "- Concatenation leaves behind a residual stutter.\n",
    "- Whisper large-v2 has WER of 13%.\n",
    "- Whisper cannot distinguish music from speech.\n",
    "- Whisper needs to \"warm-up\".\n",
    "- Speed decreases until kernel is restart.\n",
    "- Cannot load too many files; kernel must be restarted after about 2 calls.\n",
    "- Too many global variables."
   ]
  },
  {
   "cell_type": "markdown",
   "id": "45bc22ac",
   "metadata": {},
   "source": [
    "### Issues\n",
    "\n",
    "- Memory leak?\n",
    "- Must optimize"
   ]
  },
  {
   "cell_type": "code",
   "execution_count": null,
   "id": "0795d7b5",
   "metadata": {},
   "outputs": [],
   "source": []
  }
 ],
 "metadata": {
  "kernelspec": {
   "display_name": "Python 3 (ipykernel)",
   "language": "python",
   "name": "python3"
  },
  "language_info": {
   "codemirror_mode": {
    "name": "ipython",
    "version": 3
   },
   "file_extension": ".py",
   "mimetype": "text/x-python",
   "name": "python",
   "nbconvert_exporter": "python",
   "pygments_lexer": "ipython3",
   "version": "3.11.4"
  }
 },
 "nbformat": 4,
 "nbformat_minor": 5
}
